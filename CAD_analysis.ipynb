{
 "cells": [
  {
   "cell_type": "code",
   "execution_count": 400,
   "metadata": {},
   "outputs": [],
   "source": [
    "import pandas as pd\n",
    "import numpy as np\n",
    "import matplotlib.pyplot as plt\n",
    "from sklearn.model_selection import train_test_split\n",
    "from sklearn.linear_model import LogisticRegression\n",
    "from sklearn.ensemble import RandomForestClassifier\n",
    "from sklearn.preprocessing import StandardScaler\n",
    "from sklearn.metrics import confusion_matrix\n",
    "from sklearn.svm import SVC\n",
    "from sklearn.naive_bayes import GaussianNB\n"
   ]
  },
  {
   "attachments": {},
   "cell_type": "markdown",
   "metadata": {},
   "source": [
    "# Reading Cleveland data input"
   ]
  },
  {
   "cell_type": "code",
   "execution_count": 401,
   "metadata": {},
   "outputs": [],
   "source": [
    "df = pd.read_csv('cleveland_data.csv', header = None, skiprows = 1)\n",
    "df.columns = ['age', 'sex', 'cp', 'trestbps', 'chol', 'fbs', 'restecg', 'thalach', 'exang', 'oldpeak', 'slope','ca', 'thal', 'condition']"
   ]
  },
  {
   "attachments": {},
   "cell_type": "markdown",
   "metadata": {},
   "source": [
    "# Helper functions"
   ]
  },
  {
   "cell_type": "code",
   "execution_count": 402,
   "metadata": {},
   "outputs": [],
   "source": [
    "model_accuracies = []"
   ]
  },
  {
   "cell_type": "code",
   "execution_count": 403,
   "metadata": {},
   "outputs": [],
   "source": [
    "def preprocessing(df,test_split):\n",
    "    X = df.iloc[:,:-1].values\n",
    "    y = df.iloc[:,-1].values\n",
    "    X_train, X_test, y_train, y_test = train_test_split(X, y, test_size = test_split, random_state = 0)\n",
    "\n",
    "    sc = StandardScaler()\n",
    "\n",
    "    X_train = sc.fit_transform(X_train)\n",
    "    X_test = sc.transform(X_test)\n",
    "    \n",
    "    return X_train, X_test, y_train, y_test"
   ]
  },
  {
   "cell_type": "code",
   "execution_count": 404,
   "metadata": {},
   "outputs": [],
   "source": [
    "def print_accuracy(model_name, cm_train, cm_test, y_train, y_test, model_accuracies):\n",
    "    training_accuracy = (cm_train[0][0] + cm_train[1][1])/len(y_train)\n",
    "    test_accuracy = (cm_test[0][0] + cm_test[1][1])/len(y_test)\n",
    "    print(f\"{model_name} training accuracy = {training_accuracy}\")\n",
    "    print(f\"{model_name} test accuracy = {test_accuracy}\")\n",
    "    \n",
    "    model_accuracies.append([model_name,test_accuracy])\n",
    "    return model_accuracies"
   ]
  },
  {
   "attachments": {},
   "cell_type": "markdown",
   "metadata": {},
   "source": [
    "# Logistic Regression"
   ]
  },
  {
   "cell_type": "code",
   "execution_count": 405,
   "metadata": {},
   "outputs": [
    {
     "name": "stdout",
     "output_type": "stream",
     "text": [
      "Logistic Regression training accuracy = 0.855072463768116\n",
      "Logistic Regression test accuracy = 0.8555555555555555\n"
     ]
    }
   ],
   "source": [
    "X_train, X_test, y_train, y_test = preprocessing(df,0.3)\n",
    "\n",
    "model = LogisticRegression()\n",
    "model.fit(X_train, y_train)\n",
    "pred_test = model.predict(X_test)\n",
    "cm_test = confusion_matrix(pred_test, y_test)\n",
    "pred_train = model.predict(X_train)\n",
    "cm_train = confusion_matrix(pred_train, y_train)\n",
    "\n",
    "model_accuracies = print_accuracy(\"Logistic Regression\",cm_train, cm_test, y_train, y_test, model_accuracies)"
   ]
  },
  {
   "attachments": {},
   "cell_type": "markdown",
   "metadata": {},
   "source": [
    "# Random Forest"
   ]
  },
  {
   "cell_type": "code",
   "execution_count": 406,
   "metadata": {},
   "outputs": [
    {
     "name": "stdout",
     "output_type": "stream",
     "text": [
      "Random Forest training accuracy = 0.9775280898876404\n",
      "Random Forest test accuracy = 0.7899159663865546\n"
     ]
    }
   ],
   "source": [
    "X_train, X_test, y_train, y_test = preprocessing(df,0.4)\n",
    "\n",
    "model = RandomForestClassifier(n_estimators = 9)\n",
    "model.fit(X_train, y_train)\n",
    "pred_test = model.predict(X_test)\n",
    "cm_test = confusion_matrix(pred_test, y_test)\n",
    "pred_train = model.predict(X_train)\n",
    "cm_train = confusion_matrix(pred_train, y_train)\n",
    "\n",
    "model_accuracies = print_accuracy(\"Random Forest\",cm_train, cm_test, y_train, y_test, model_accuracies)"
   ]
  },
  {
   "attachments": {},
   "cell_type": "markdown",
   "metadata": {},
   "source": [
    "# SVM"
   ]
  },
  {
   "cell_type": "code",
   "execution_count": 407,
   "metadata": {},
   "outputs": [
    {
     "name": "stdout",
     "output_type": "stream",
     "text": [
      "SVM training accuracy = 0.9071729957805907\n",
      "SVM test accuracy = 0.85\n"
     ]
    }
   ],
   "source": [
    "X_train, X_test, y_train, y_test = preprocessing(df,0.2)\n",
    "\n",
    "model = SVC()\n",
    "model.fit(X_train, y_train)\n",
    "pred_test = model.predict(X_test)\n",
    "cm_test = confusion_matrix(pred_test, y_test)\n",
    "pred_train = model.predict(X_train)\n",
    "cm_train = confusion_matrix(pred_train, y_train)\n",
    "\n",
    "model_accuracies = print_accuracy(\"SVM\",cm_train, cm_test, y_train, y_test, model_accuracies)"
   ]
  },
  {
   "attachments": {},
   "cell_type": "markdown",
   "metadata": {},
   "source": [
    "# Native Bayes"
   ]
  },
  {
   "cell_type": "code",
   "execution_count": 408,
   "metadata": {},
   "outputs": [
    {
     "name": "stdout",
     "output_type": "stream",
     "text": [
      "Native Bayes training accuracy = 0.8565400843881856\n",
      "Native Bayes test accuracy = 0.8333333333333334\n"
     ]
    }
   ],
   "source": [
    "X_train, X_test, y_train, y_test = preprocessing(df,0.2)\n",
    "\n",
    "model = GaussianNB()\n",
    "model.fit(X_train, y_train)\n",
    "pred_test = model.predict(X_test)\n",
    "cm_test = confusion_matrix(pred_test, y_test)\n",
    "pred_train = model.predict(X_train)\n",
    "cm_train = confusion_matrix(pred_train, y_train)\n",
    "\n",
    "model_accuracies = print_accuracy(\"Native Bayes\",cm_train, cm_test, y_train, y_test, model_accuracies)"
   ]
  },
  {
   "attachments": {},
   "cell_type": "markdown",
   "metadata": {},
   "source": [
    "# Decision Tree"
   ]
  },
  {
   "cell_type": "code",
   "execution_count": null,
   "metadata": {},
   "outputs": [],
   "source": []
  },
  {
   "attachments": {},
   "cell_type": "markdown",
   "metadata": {},
   "source": [
    "# Model Accuracy Summary"
   ]
  },
  {
   "cell_type": "code",
   "execution_count": 409,
   "metadata": {},
   "outputs": [
    {
     "name": "stdout",
     "output_type": "stream",
     "text": [
      "[['Logistic Regression', 0.8555555555555555], ['Random Forest', 0.7899159663865546], ['SVM', 0.85], ['Native Bayes', 0.8333333333333334]]\n"
     ]
    }
   ],
   "source": [
    "print(model_accuracies)"
   ]
  }
 ],
 "metadata": {
  "kernelspec": {
   "display_name": "cad",
   "language": "python",
   "name": "python3"
  },
  "language_info": {
   "codemirror_mode": {
    "name": "ipython",
    "version": 3
   },
   "file_extension": ".py",
   "mimetype": "text/x-python",
   "name": "python",
   "nbconvert_exporter": "python",
   "pygments_lexer": "ipython3",
   "version": "3.10.9"
  },
  "orig_nbformat": 4,
  "vscode": {
   "interpreter": {
    "hash": "881c0a1d193ac904e1f1df3075e7becb179dcdbb74e4c690131cd428fe370926"
   }
  }
 },
 "nbformat": 4,
 "nbformat_minor": 2
}
